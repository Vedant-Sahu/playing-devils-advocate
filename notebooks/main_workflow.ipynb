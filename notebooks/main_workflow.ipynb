{
 "cells": [
  {
   "cell_type": "code",
   "execution_count": 1,
   "id": "efc00888",
   "metadata": {},
   "outputs": [
    {
     "name": "stdout",
     "output_type": "stream",
     "text": [
      "OPENAI_API_KEY set? True\n"
     ]
    }
   ],
   "source": [
    "# load keys from keys/keys.json and set OPENAI_API_KEY\n",
    "import json, os, pathlib\n",
    "keys_path = pathlib.Path(\"keys/keys.json\")\n",
    "if keys_path.exists():\n",
    "    with keys_path.open(\"r\", encoding=\"utf-8\") as f:\n",
    "        keys = json.load(f)\n",
    "    v = keys.get(\"OPENAI_API_KEY\")\n",
    "    if v:\n",
    "        os.environ[\"OPENAI_API_KEY\"] = v\n",
    "print(\"OPENAI_API_KEY set?\", bool(os.getenv(\"OPENAI_API_KEY\")))"
   ]
  },
  {
   "cell_type": "code",
   "execution_count": 4,
   "id": "96e1afba",
   "metadata": {},
   "outputs": [],
   "source": [
    "# imports and config constants (refactored to per-agent modules)\n",
    "import os, json, pathlib\n",
    "from datetime import datetime\n",
    "from typing import Dict, List\n",
    "import matplotlib.pyplot as plt\n",
    "from pathlib import Path\n",
    "import sys\n",
    "\n",
    "sys.path.insert(0, str(Path.cwd().parent))  # add repo root\n",
    "\n",
    "from src.agents.common import PERSONAS, StopConfig\n",
    "from src.agents.coordinator_agent import coordinator_node\n",
    "from src.agents.teacher_agent import teacher_node\n",
    "from src.agents.student_agent import students_node\n",
    "from src.agents.critique_eval_agent import reward_node\n",
    "from src.agents.stopping_agent import stopper_node\n",
    "\n",
    "THRESHOLD = 0.7\n",
    "MAX_ITERS = 5\n",
    "BASE_OUT = pathlib.Path(\"results\")\n",
    "BASE_OUT.mkdir(parents=True, exist_ok=True)"
   ]
  },
  {
   "cell_type": "code",
   "execution_count": 5,
   "id": "2b5f8b0f",
   "metadata": {},
   "outputs": [],
   "source": [
    "# optional: initialize TruLens OpenAI provider to compute simple relevance\n",
    "try:\n",
    "    from trulens.providers.openai import OpenAI as TruOpenAI\n",
    "    tru_provider = TruOpenAI(model_engine=\"gpt-4o-mini\")\n",
    "except Exception as e:\n",
    "    tru_provider = None\n",
    "    print(\"TruLens provider init failed:\", e)\n",
    "\n",
    "\n",
    "def trulens_relevance(question: str, explanation: str):\n",
    "    \"\"\"Return a simple relevance score via TruLens provider, or None if unavailable.\"\"\"\n",
    "    if tru_provider is None:\n",
    "        return None\n",
    "    try:\n",
    "        res = tru_provider.relevance_with_cot_reasons(question, explanation)\n",
    "        # Try to normalize to float if structure varies across versions\n",
    "        if isinstance(res, dict):\n",
    "            for k in (\"score\", \"value\", \"score_value\"):\n",
    "                if k in res and res[k] is not None:\n",
    "                    return float(res[k])\n",
    "            return None\n",
    "        # object-like\n",
    "        score = getattr(res, \"score\", None) or getattr(res, \"value\", None)\n",
    "        return float(score) if score is not None else None\n",
    "    except Exception:\n",
    "        return None"
   ]
  },
  {
   "cell_type": "code",
   "execution_count": 6,
   "id": "f9fb1dd3",
   "metadata": {},
   "outputs": [
    {
     "name": "stdout",
     "output_type": "stream",
     "text": [
      "🦑 Initialized with db url sqlite:///edu_refine.sqlite .\n",
      "🛑 Secret keys may be written to the database. See the `database_redact_keys` option of `TruSession` to prevent this.\n"
     ]
    },
    {
     "name": "stderr",
     "output_type": "stream",
     "text": [
      "Updating app_name and app_version in apps table: 0it [00:00, ?it/s]\n",
      "Updating app_id in records table: 0it [00:00, ?it/s]\n",
      "Updating app_json in apps table: 0it [00:00, ?it/s]\n"
     ]
    },
    {
     "name": "stdout",
     "output_type": "stream",
     "text": [
      "✅ experimental Feature.OTEL_TRACING enabled.\n",
      "🔒 experimental Feature.OTEL_TRACING is enabled and cannot be changed.\n",
      "instrumenting <class 'langgraph.graph.state.StateGraph'> for base <class 'langgraph.graph.state.StateGraph'>\n",
      "instrumenting <class 'langgraph.graph.state.CompiledStateGraph'> for base <class 'langgraph.graph.state.CompiledStateGraph'>\n",
      "\tinstrumenting invoke\n",
      "\tinstrumenting ainvoke\n",
      "\tinstrumenting stream\n",
      "\tinstrumenting astream\n",
      "instrumenting <class 'langgraph.graph.state.CompiledStateGraph'> for base <class 'langgraph.pregel.main.Pregel'>\n",
      "\tinstrumenting invoke\n",
      "\tinstrumenting ainvoke\n",
      "\tinstrumenting stream\n",
      "\tinstrumenting astream\n"
     ]
    }
   ],
   "source": [
    "# build LangGraph graph for multi-agent refinement + TruLens session\n",
    "from typing import Dict, List\n",
    "from typing_extensions import TypedDict\n",
    "from langgraph.graph import StateGraph, END\n",
    "\n",
    "class State(TypedDict, total=False):\n",
    "    question: str\n",
    "    topics: List[str]\n",
    "    explanation: str\n",
    "    student_responses: Dict[str, str]\n",
    "    reward_scores: Dict[str, int]\n",
    "    history: List[Dict]\n",
    "    iteration: int\n",
    "    threshold: float\n",
    "    max_iters: int\n",
    "    decision: str\n",
    "    reason: str\n",
    "\n",
    "# assemble graph with nodes imported from edu_agents.* modules\n",
    "graph = StateGraph(State)\n",
    "\n",
    "graph.add_node(\"coordinator\", coordinator_node)\n",
    "\n",
    "graph.add_node(\"teacher\", teacher_node)\n",
    "\n",
    "graph.add_node(\"students\", students_node)\n",
    "\n",
    "graph.add_node(\"reward\", reward_node)\n",
    "\n",
    "graph.add_node(\"stopper\", stopper_node)\n",
    "\n",
    "# edges\n",
    "graph.add_edge(\"coordinator\", \"teacher\")\n",
    "graph.add_edge(\"teacher\", \"students\")\n",
    "graph.add_edge(\"students\", \"reward\")\n",
    "graph.add_edge(\"reward\", \"stopper\")\n",
    "\n",
    "# on CONTINUE, recompute topics first, then go to teacher\n",
    "def route_from_stop(state: State) -> str:\n",
    "    return \"stop\" if state.get(\"decision\") == \"STOP\" else \"continue\"\n",
    "\n",
    "graph.add_conditional_edges(\"stopper\", route_from_stop, {\"stop\": END, \"continue\": \"coordinator\"})\n",
    "\n",
    "graph.set_entry_point(\"coordinator\")\n",
    "compiled_graph = graph.compile()\n",
    "\n",
    "# TruLens LangGraph recorder (logs interactions)\n",
    "try:\n",
    "    from trulens.core.database.connector.default import DefaultDBConnector\n",
    "    from trulens.core.session import TruSession\n",
    "    from trulens.apps.langgraph import TruGraph\n",
    "\n",
    "    connector = DefaultDBConnector(database_url=\"sqlite:///edu_refine.sqlite\")\n",
    "    tru_session = TruSession(connector=connector)\n",
    "    tru_recorder = TruGraph(compiled_graph, app_name=\"Educational Refinement Agent\", app_version=\"mvp\")\n",
    "except Exception as e:\n",
    "    tru_recorder = None\n",
    "    print(\"TruGraph init failed:\", e)"
   ]
  },
  {
   "cell_type": "code",
   "execution_count": 7,
   "id": "2b181adb",
   "metadata": {},
   "outputs": [
    {
     "data": {
      "image/png": "[encoded data removed]",
      "text/plain": [
       "<IPython.core.display.Image object>"
      ]
     },
     "metadata": {},
     "output_type": "display_data"
    }
   ],
   "source": [
    "\n",
    "from IPython.display import Image\n",
    "\n",
    "display(Image(compiled_graph.get_graph().draw_mermaid_png()))\n"
   ]
  },
  {
   "cell_type": "code",
   "execution_count": 8,
   "id": "1bf3192f",
   "metadata": {},
   "outputs": [
    {
     "name": "stdout",
     "output_type": "stream",
     "text": [
      "Question: How does gradient descent work?\n",
      "Topics: high-dimensional cost function landscapes, impact of learning rate on convergence, adaptive learning rates (e.g., Adam), Stochastic Gradient Descent (SGD) mechanics, regularization techniques in gradient descent, visualization techniques for optimization, gradient descent in non-convex optimization, comparison of gradient descent variants, convergence criteria for gradient descent, trade-offs between batch size and convergence speed\n",
      "Iterations: 5\n",
      "Final scores: {'advanced': 3, 'struggling': 3, 'visual': 3, 'practical': 3, 'theoretical': 3}\n",
      "\n",
      "Final explanation (truncated to 800 chars):\n",
      "\n",
      "Gradient descent is an optimization algorithm used to minimize a cost function, often visualized as a ball rolling down a hill to find the lowest point. In high-dimensional spaces, the landscape can be complex, with many local minima. The algorithm iteratively updates parameters by moving in the direction of the negative gradient, which indicates the steepest descent. For example, if we have a simple cost function \\( f(x) = (x-3)^2 \\), starting at \\( x=0 \\) with a learning rate of 0.1, the first update would be \\( x = 0 - 0.1 \\cdot (2(0-3)) = 0.6 \\). The learning rate affects convergence speed; too high may overshoot, while too low can slow progress. Adaptive methods like Adam adjust the learning rate based on past gradients, improving convergence in complex landscapes. Stochastic Gradient\n"
     ]
    }
   ],
   "source": [
    "# demo run on an example question using TruGraph context manager (logs to TruLens)\n",
    "QUESTION = \"How does gradient descent work?\"\n",
    "initial_state = {\n",
    "    \"question\": QUESTION,\n",
    "    \"threshold\": THRESHOLD,\n",
    "    \"max_iters\": MAX_ITERS,\n",
    "    \"history\": [],\n",
    "}\n",
    "\n",
    "# Preferred pattern: use TruGraph as a context manager to record the run\n",
    "if 'tru_recorder' in globals() and tru_recorder is not None:\n",
    "    with tru_recorder as recording:\n",
    "        state = compiled_graph.invoke(initial_state, config={\"recursion_limit\": 30})\n",
    "else:\n",
    "    state = compiled_graph.invoke(initial_state, config={\"recursion_limit\": 30})\n",
    "\n",
    "results = {\n",
    "    \"question\": state.get(\"question\", QUESTION),\n",
    "    \"topics\": state.get(\"topics\", []),\n",
    "    \"iterations\": state.get(\"iteration\", 0),\n",
    "    \"final_scores\": state.get(\"reward_scores\", {}),\n",
    "    \"final_explanation\": state.get(\"explanation\", \"\"),\n",
    "    \"history\": state.get(\"history\", []),\n",
    "}\n",
    "\n",
    "print(\"Question:\", results[\"question\"]) \n",
    "print(\"Topics:\", \", \".join(results[\"topics\"]))\n",
    "print(\"Iterations:\", results[\"iterations\"]) \n",
    "print(\"Final scores:\", results[\"final_scores\"]) \n",
    "print(\"\\nFinal explanation (truncated to 800 chars):\\n\")\n",
    "print(results[\"final_explanation\"][:800])"
   ]
  },
  {
   "cell_type": "code",
   "execution_count": null,
   "id": "a7f1688d",
   "metadata": {},
   "outputs": [],
   "source": [
    "# save outputs (final explanation + metadata) under outputs/<timestamp>\n",
    "import json, pathlib\n",
    "from datetime import datetime\n",
    "\n",
    "stamp = datetime.now().strftime(\"%Y%m%d-%H%M%S\")\n",
    "out_dir = pathlib.Path(\"outputs\")/stamp\n",
    "out_dir.mkdir(parents=True, exist_ok=True)\n",
    "\n",
    "# write final explanation\n",
    "(out_dir/\"final_explanation.md\").write_text(results[\"final_explanation\"], encoding=\"utf-8\")\n",
    "\n",
    "# write metadata json (scores, iterations, topics, history truncated summaries)\n",
    "meta = {\n",
    "    \"question\": results[\"question\"],\n",
    "    \"topics\": results[\"topics\"],\n",
    "    \"iterations\": results[\"iterations\"],\n",
    "    \"final_scores\": results[\"final_scores\"],\n",
    "    \"history_len\": len(results[\"history\"]),\n",
    "}\n",
    "(out_dir/\"metadata.json\").write_text(json.dumps(meta, indent=2), encoding=\"utf-8\")\n",
    "\n",
    "print(\"Saved to:\", str(out_dir))"
   ]
  },
  {
   "cell_type": "code",
   "execution_count": null,
   "id": "edb640de",
   "metadata": {},
   "outputs": [],
   "source": [
    "# launch TruLens dashboard to view agent interactions\n",
    "from trulens.dashboard import run_dashboard\n",
    "run_dashboard()  # prints a local URL (e.g., http://localhost:8501); open it in your browser"
   ]
  }
 ],
 "metadata": {
  "kernelspec": {
   "display_name": "315env",
   "language": "python",
   "name": "python3"
  },
  "language_info": {
   "codemirror_mode": {
    "name": "ipython",
    "version": 3
   },
   "file_extension": ".py",
   "mimetype": "text/x-python",
   "name": "python",
   "nbconvert_exporter": "python",
   "pygments_lexer": "ipython3",
   "version": "3.11.11"
  }
 },
 "nbformat": 4,
 "nbformat_minor": 5
}
